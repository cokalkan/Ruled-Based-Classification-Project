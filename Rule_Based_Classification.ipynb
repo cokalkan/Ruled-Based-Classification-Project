{
 "cells": [
  {
   "cell_type": "code",
   "execution_count": 23,
   "id": "8b346c2d-1443-4984-8be1-f02335cc472d",
   "metadata": {},
   "outputs": [],
   "source": [
    "import pandas as pd\n",
    "pd.set_option('display.max_columns', None)\n",
    "pd.set_option('display.width', 500)\n",
    "pd.set_option('display.float_format', lambda x: '%.2f' % x)"
   ]
  },
  {
   "cell_type": "code",
   "execution_count": 27,
   "id": "7682193e-93c4-4ed3-9cf9-d1eaad6eddf5",
   "metadata": {},
   "outputs": [],
   "source": [
    "df = pd.read_excel(\"datasets/miuul_gezinomi.xlsx\")"
   ]
  },
  {
   "cell_type": "code",
   "execution_count": 28,
   "id": "130e65cc-7186-49d6-bad4-84e6bf838f73",
   "metadata": {
    "scrolled": true
   },
   "outputs": [
    {
     "name": "stdout",
     "output_type": "stream",
     "text": [
      "<class 'pandas.core.frame.DataFrame'>\n",
      "RangeIndex: 59164 entries, 0 to 59163\n",
      "Data columns (total 9 columns):\n",
      " #   Column              Non-Null Count  Dtype         \n",
      "---  ------              --------------  -----         \n",
      " 0   SaleId              59164 non-null  int64         \n",
      " 1   SaleDate            59164 non-null  datetime64[ns]\n",
      " 2   CheckInDate         59164 non-null  datetime64[ns]\n",
      " 3   Price               59151 non-null  float64       \n",
      " 4   ConceptName         59164 non-null  object        \n",
      " 5   SaleCityName        59164 non-null  object        \n",
      " 6   CInDay              59164 non-null  object        \n",
      " 7   SaleCheckInDayDiff  59164 non-null  int64         \n",
      " 8   Seasons             59164 non-null  object        \n",
      "dtypes: datetime64[ns](2), float64(1), int64(2), object(4)\n",
      "memory usage: 4.1+ MB\n"
     ]
    },
    {
     "data": {
      "text/plain": [
       "(59164, 9)"
      ]
     },
     "execution_count": 28,
     "metadata": {},
     "output_type": "execute_result"
    }
   ],
   "source": [
    "df.info()\n",
    "df.shape"
   ]
  },
  {
   "cell_type": "code",
   "execution_count": 37,
   "id": "7d84719b-16fd-4dc6-b49c-27c07c6c9ab6",
   "metadata": {},
   "outputs": [
    {
     "data": {
      "text/plain": [
       "SaleCityName\n",
       "Antalya   64.52\n",
       "Aydın     53.86\n",
       "Diğer     47.71\n",
       "Girne     59.48\n",
       "Muğla     62.46\n",
       "İzmir     66.27\n",
       "Name: Price, dtype: float64"
      ]
     },
     "execution_count": 37,
     "metadata": {},
     "output_type": "execute_result"
    }
   ],
   "source": [
    "df.groupby(\"SaleCityName\")[\"Price\"].mean()"
   ]
  },
  {
   "cell_type": "code",
   "execution_count": 38,
   "id": "a4b31427-ab7d-4fe8-b822-22514cd38f1f",
   "metadata": {},
   "outputs": [
    {
     "data": {
      "text/plain": [
       "ConceptName\n",
       "Herşey Dahil     62.67\n",
       "Oda + Kahvaltı   50.25\n",
       "Yarım Pansiyon   49.03\n",
       "Name: Price, dtype: float64"
      ]
     },
     "execution_count": 38,
     "metadata": {},
     "output_type": "execute_result"
    }
   ],
   "source": [
    "df.groupby(\"ConceptName\")[\"Price\"].mean()"
   ]
  },
  {
   "cell_type": "code",
   "execution_count": 39,
   "id": "41fd07b5-1111-452f-a4a2-6bfd6dcecd4a",
   "metadata": {},
   "outputs": [
    {
     "data": {
      "text/plain": [
       "SaleCityName  ConceptName   \n",
       "Antalya       Herşey Dahil     64.52\n",
       "              Oda + Kahvaltı   63.50\n",
       "              Yarım Pansiyon   67.19\n",
       "Aydın         Herşey Dahil     54.00\n",
       "              Oda + Kahvaltı   34.46\n",
       "              Yarım Pansiyon   30.02\n",
       "Diğer         Herşey Dahil     84.77\n",
       "              Oda + Kahvaltı   37.60\n",
       "              Yarım Pansiyon   42.11\n",
       "Girne         Herşey Dahil     97.68\n",
       "              Oda + Kahvaltı   39.78\n",
       "              Yarım Pansiyon   53.25\n",
       "Muğla         Herşey Dahil     63.02\n",
       "              Oda + Kahvaltı   59.04\n",
       "              Yarım Pansiyon   45.12\n",
       "İzmir         Herşey Dahil     74.70\n",
       "              Oda + Kahvaltı   41.32\n",
       "              Yarım Pansiyon   59.61\n",
       "Name: Price, dtype: float64"
      ]
     },
     "execution_count": 39,
     "metadata": {},
     "output_type": "execute_result"
    }
   ],
   "source": [
    "df.groupby([\"SaleCityName\", \"ConceptName\"])[\"Price\"].mean()"
   ]
  },
  {
   "cell_type": "code",
   "execution_count": 29,
   "id": "f9073b46-eb51-4609-9f96-a166c285a7ee",
   "metadata": {},
   "outputs": [
    {
     "data": {
      "text/html": [
       "<div>\n",
       "<style scoped>\n",
       "    .dataframe tbody tr th:only-of-type {\n",
       "        vertical-align: middle;\n",
       "    }\n",
       "\n",
       "    .dataframe tbody tr th {\n",
       "        vertical-align: top;\n",
       "    }\n",
       "\n",
       "    .dataframe thead th {\n",
       "        text-align: right;\n",
       "    }\n",
       "</style>\n",
       "<table border=\"1\" class=\"dataframe\">\n",
       "  <thead>\n",
       "    <tr style=\"text-align: right;\">\n",
       "      <th></th>\n",
       "      <th></th>\n",
       "      <th></th>\n",
       "      <th>Price</th>\n",
       "    </tr>\n",
       "    <tr>\n",
       "      <th>SaleCityName</th>\n",
       "      <th>ConceptName</th>\n",
       "      <th>Seasons</th>\n",
       "      <th></th>\n",
       "    </tr>\n",
       "  </thead>\n",
       "  <tbody>\n",
       "    <tr>\n",
       "      <th rowspan=\"2\" valign=\"top\">Girne</th>\n",
       "      <th rowspan=\"2\" valign=\"top\">Herşey Dahil</th>\n",
       "      <th>High</th>\n",
       "      <td>103.94</td>\n",
       "    </tr>\n",
       "    <tr>\n",
       "      <th>Low</th>\n",
       "      <td>90.94</td>\n",
       "    </tr>\n",
       "    <tr>\n",
       "      <th>İzmir</th>\n",
       "      <th>Yarım Pansiyon</th>\n",
       "      <th>High</th>\n",
       "      <td>87.66</td>\n",
       "    </tr>\n",
       "    <tr>\n",
       "      <th rowspan=\"2\" valign=\"top\">Diğer</th>\n",
       "      <th rowspan=\"2\" valign=\"top\">Herşey Dahil</th>\n",
       "      <th>Low</th>\n",
       "      <td>87.31</td>\n",
       "    </tr>\n",
       "    <tr>\n",
       "      <th>High</th>\n",
       "      <td>83.79</td>\n",
       "    </tr>\n",
       "  </tbody>\n",
       "</table>\n",
       "</div>"
      ],
      "text/plain": [
       "                                     Price\n",
       "SaleCityName ConceptName    Seasons       \n",
       "Girne        Herşey Dahil   High    103.94\n",
       "                            Low      90.94\n",
       "İzmir        Yarım Pansiyon High     87.66\n",
       "Diğer        Herşey Dahil   Low      87.31\n",
       "                            High     83.79"
      ]
     },
     "execution_count": 29,
     "metadata": {},
     "output_type": "execute_result"
    }
   ],
   "source": [
    "agg_df = df.pivot_table(\"Price\", [\"SaleCityName\", \"ConceptName\", \"Seasons\"]).sort_values(by=\"Price\", ascending=False)\n",
    "agg_df.head()"
   ]
  },
  {
   "cell_type": "code",
   "execution_count": 30,
   "id": "4cd0818a-4052-4036-a9ad-ce6ca59f4a6c",
   "metadata": {
    "scrolled": true
   },
   "outputs": [
    {
     "data": {
      "text/html": [
       "<div>\n",
       "<style scoped>\n",
       "    .dataframe tbody tr th:only-of-type {\n",
       "        vertical-align: middle;\n",
       "    }\n",
       "\n",
       "    .dataframe tbody tr th {\n",
       "        vertical-align: top;\n",
       "    }\n",
       "\n",
       "    .dataframe thead th {\n",
       "        text-align: right;\n",
       "    }\n",
       "</style>\n",
       "<table border=\"1\" class=\"dataframe\">\n",
       "  <thead>\n",
       "    <tr style=\"text-align: right;\">\n",
       "      <th></th>\n",
       "      <th>SaleCityName</th>\n",
       "      <th>ConceptName</th>\n",
       "      <th>Seasons</th>\n",
       "      <th>Price</th>\n",
       "    </tr>\n",
       "  </thead>\n",
       "  <tbody>\n",
       "    <tr>\n",
       "      <th>0</th>\n",
       "      <td>Girne</td>\n",
       "      <td>Herşey Dahil</td>\n",
       "      <td>High</td>\n",
       "      <td>103.94</td>\n",
       "    </tr>\n",
       "    <tr>\n",
       "      <th>1</th>\n",
       "      <td>Girne</td>\n",
       "      <td>Herşey Dahil</td>\n",
       "      <td>Low</td>\n",
       "      <td>90.94</td>\n",
       "    </tr>\n",
       "    <tr>\n",
       "      <th>2</th>\n",
       "      <td>İzmir</td>\n",
       "      <td>Yarım Pansiyon</td>\n",
       "      <td>High</td>\n",
       "      <td>87.66</td>\n",
       "    </tr>\n",
       "    <tr>\n",
       "      <th>3</th>\n",
       "      <td>Diğer</td>\n",
       "      <td>Herşey Dahil</td>\n",
       "      <td>Low</td>\n",
       "      <td>87.31</td>\n",
       "    </tr>\n",
       "    <tr>\n",
       "      <th>4</th>\n",
       "      <td>Diğer</td>\n",
       "      <td>Herşey Dahil</td>\n",
       "      <td>High</td>\n",
       "      <td>83.79</td>\n",
       "    </tr>\n",
       "  </tbody>\n",
       "</table>\n",
       "</div>"
      ],
      "text/plain": [
       "  SaleCityName     ConceptName Seasons  Price\n",
       "0        Girne    Herşey Dahil    High 103.94\n",
       "1        Girne    Herşey Dahil     Low  90.94\n",
       "2        İzmir  Yarım Pansiyon    High  87.66\n",
       "3        Diğer    Herşey Dahil     Low  87.31\n",
       "4        Diğer    Herşey Dahil    High  83.79"
      ]
     },
     "execution_count": 30,
     "metadata": {},
     "output_type": "execute_result"
    }
   ],
   "source": [
    "agg_df.reset_index(inplace=True)\n",
    "agg_df.head()"
   ]
  },
  {
   "cell_type": "code",
   "execution_count": 32,
   "id": "384abaa2-c882-468e-955b-34d316af1395",
   "metadata": {},
   "outputs": [
    {
     "data": {
      "text/html": [
       "<div>\n",
       "<style scoped>\n",
       "    .dataframe tbody tr th:only-of-type {\n",
       "        vertical-align: middle;\n",
       "    }\n",
       "\n",
       "    .dataframe tbody tr th {\n",
       "        vertical-align: top;\n",
       "    }\n",
       "\n",
       "    .dataframe thead th {\n",
       "        text-align: right;\n",
       "    }\n",
       "</style>\n",
       "<table border=\"1\" class=\"dataframe\">\n",
       "  <thead>\n",
       "    <tr style=\"text-align: right;\">\n",
       "      <th></th>\n",
       "      <th>SaleCityName</th>\n",
       "      <th>ConceptName</th>\n",
       "      <th>Seasons</th>\n",
       "      <th>Price</th>\n",
       "      <th>Sales_Level_Based</th>\n",
       "    </tr>\n",
       "  </thead>\n",
       "  <tbody>\n",
       "    <tr>\n",
       "      <th>0</th>\n",
       "      <td>Girne</td>\n",
       "      <td>Herşey Dahil</td>\n",
       "      <td>High</td>\n",
       "      <td>103.94</td>\n",
       "      <td>GIRNE_HERŞEY DAHIL_HIGH</td>\n",
       "    </tr>\n",
       "    <tr>\n",
       "      <th>1</th>\n",
       "      <td>Girne</td>\n",
       "      <td>Herşey Dahil</td>\n",
       "      <td>Low</td>\n",
       "      <td>90.94</td>\n",
       "      <td>GIRNE_HERŞEY DAHIL_LOW</td>\n",
       "    </tr>\n",
       "    <tr>\n",
       "      <th>2</th>\n",
       "      <td>İzmir</td>\n",
       "      <td>Yarım Pansiyon</td>\n",
       "      <td>High</td>\n",
       "      <td>87.66</td>\n",
       "      <td>İZMIR_YARIM PANSIYON_HIGH</td>\n",
       "    </tr>\n",
       "    <tr>\n",
       "      <th>3</th>\n",
       "      <td>Diğer</td>\n",
       "      <td>Herşey Dahil</td>\n",
       "      <td>Low</td>\n",
       "      <td>87.31</td>\n",
       "      <td>DIĞER_HERŞEY DAHIL_LOW</td>\n",
       "    </tr>\n",
       "    <tr>\n",
       "      <th>4</th>\n",
       "      <td>Diğer</td>\n",
       "      <td>Herşey Dahil</td>\n",
       "      <td>High</td>\n",
       "      <td>83.79</td>\n",
       "      <td>DIĞER_HERŞEY DAHIL_HIGH</td>\n",
       "    </tr>\n",
       "  </tbody>\n",
       "</table>\n",
       "</div>"
      ],
      "text/plain": [
       "  SaleCityName     ConceptName Seasons  Price          Sales_Level_Based\n",
       "0        Girne    Herşey Dahil    High 103.94    GIRNE_HERŞEY DAHIL_HIGH\n",
       "1        Girne    Herşey Dahil     Low  90.94     GIRNE_HERŞEY DAHIL_LOW\n",
       "2        İzmir  Yarım Pansiyon    High  87.66  İZMIR_YARIM PANSIYON_HIGH\n",
       "3        Diğer    Herşey Dahil     Low  87.31     DIĞER_HERŞEY DAHIL_LOW\n",
       "4        Diğer    Herşey Dahil    High  83.79    DIĞER_HERŞEY DAHIL_HIGH"
      ]
     },
     "execution_count": 32,
     "metadata": {},
     "output_type": "execute_result"
    }
   ],
   "source": [
    "agg_df[\"Sales_Level_Based\"] = agg_df[\"SaleCityName\"] + \"_\" + agg_df[\"ConceptName\"] + \"_\" + agg_df[\"Seasons\"]\n",
    "agg_df[\"Sales_Level_Based\"] = agg_df[\"Sales_Level_Based\"].str.upper()\n",
    "agg_df.head()"
   ]
  },
  {
   "cell_type": "code",
   "execution_count": 33,
   "id": "c985090b-2c0e-414d-a577-d90b5ff86783",
   "metadata": {},
   "outputs": [
    {
     "data": {
      "text/plain": [
       "Sales_Level_Based\n",
       "GIRNE_HERŞEY DAHIL_HIGH        1\n",
       "GIRNE_HERŞEY DAHIL_LOW         1\n",
       "MUĞLA_HERŞEY DAHIL_LOW         1\n",
       "MUĞLA_YARIM PANSIYON_HIGH      1\n",
       "AYDIN_ODA + KAHVALTI_LOW       1\n",
       "DIĞER_YARIM PANSIYON_LOW       1\n",
       "GIRNE_ODA + KAHVALTI_LOW       1\n",
       "DIĞER_ODA + KAHVALTI_LOW       1\n",
       "DIĞER_YARIM PANSIYON_HIGH      1\n",
       "GIRNE_ODA + KAHVALTI_HIGH      1\n",
       "MUĞLA_ODA + KAHVALTI_LOW       1\n",
       "DIĞER_ODA + KAHVALTI_HIGH      1\n",
       "AYDIN_HERŞEY DAHIL_LOW         1\n",
       "İZMIR_ODA + KAHVALTI_LOW       1\n",
       "MUĞLA_YARIM PANSIYON_LOW       1\n",
       "AYDIN_YARIM PANSIYON_HIGH      1\n",
       "AYDIN_ODA + KAHVALTI_HIGH      1\n",
       "GIRNE_YARIM PANSIYON_LOW       1\n",
       "İZMIR_ODA + KAHVALTI_HIGH      1\n",
       "AYDIN_HERŞEY DAHIL_HIGH        1\n",
       "ANTALYA_ODA + KAHVALTI_HIGH    1\n",
       "İZMIR_YARIM PANSIYON_HIGH      1\n",
       "DIĞER_HERŞEY DAHIL_LOW         1\n",
       "DIĞER_HERŞEY DAHIL_HIGH        1\n",
       "İZMIR_HERŞEY DAHIL_HIGH        1\n",
       "İZMIR_HERŞEY DAHIL_LOW         1\n",
       "ANTALYA_YARIM PANSIYON_HIGH    1\n",
       "ANTALYA_HERŞEY DAHIL_HIGH      1\n",
       "İZMIR_YARIM PANSIYON_LOW       1\n",
       "MUĞLA_HERŞEY DAHIL_HIGH        1\n",
       "ANTALYA_YARIM PANSIYON_LOW     1\n",
       "ANTALYA_HERŞEY DAHIL_LOW       1\n",
       "MUĞLA_ODA + KAHVALTI_HIGH      1\n",
       "ANTALYA_ODA + KAHVALTI_LOW     1\n",
       "GIRNE_YARIM PANSIYON_HIGH      1\n",
       "AYDIN_YARIM PANSIYON_LOW       1\n",
       "Name: count, dtype: int64"
      ]
     },
     "execution_count": 33,
     "metadata": {},
     "output_type": "execute_result"
    }
   ],
   "source": [
    "agg_df[\"Sales_Level_Based\"].value_counts()"
   ]
  },
  {
   "cell_type": "code",
   "execution_count": 34,
   "id": "32236283-0e60-4924-9577-51c4593881c6",
   "metadata": {},
   "outputs": [
    {
     "data": {
      "text/html": [
       "<div>\n",
       "<style scoped>\n",
       "    .dataframe tbody tr th:only-of-type {\n",
       "        vertical-align: middle;\n",
       "    }\n",
       "\n",
       "    .dataframe tbody tr th {\n",
       "        vertical-align: top;\n",
       "    }\n",
       "\n",
       "    .dataframe thead th {\n",
       "        text-align: right;\n",
       "    }\n",
       "</style>\n",
       "<table border=\"1\" class=\"dataframe\">\n",
       "  <thead>\n",
       "    <tr style=\"text-align: right;\">\n",
       "      <th></th>\n",
       "      <th>SaleCityName</th>\n",
       "      <th>ConceptName</th>\n",
       "      <th>Seasons</th>\n",
       "      <th>Price</th>\n",
       "      <th>Sales_Level_Based</th>\n",
       "      <th>Segment</th>\n",
       "    </tr>\n",
       "  </thead>\n",
       "  <tbody>\n",
       "    <tr>\n",
       "      <th>0</th>\n",
       "      <td>Girne</td>\n",
       "      <td>Herşey Dahil</td>\n",
       "      <td>High</td>\n",
       "      <td>103.94</td>\n",
       "      <td>GIRNE_HERŞEY DAHIL_HIGH</td>\n",
       "      <td>A</td>\n",
       "    </tr>\n",
       "    <tr>\n",
       "      <th>1</th>\n",
       "      <td>Girne</td>\n",
       "      <td>Herşey Dahil</td>\n",
       "      <td>Low</td>\n",
       "      <td>90.94</td>\n",
       "      <td>GIRNE_HERŞEY DAHIL_LOW</td>\n",
       "      <td>A</td>\n",
       "    </tr>\n",
       "    <tr>\n",
       "      <th>2</th>\n",
       "      <td>İzmir</td>\n",
       "      <td>Yarım Pansiyon</td>\n",
       "      <td>High</td>\n",
       "      <td>87.66</td>\n",
       "      <td>İZMIR_YARIM PANSIYON_HIGH</td>\n",
       "      <td>A</td>\n",
       "    </tr>\n",
       "    <tr>\n",
       "      <th>3</th>\n",
       "      <td>Diğer</td>\n",
       "      <td>Herşey Dahil</td>\n",
       "      <td>Low</td>\n",
       "      <td>87.31</td>\n",
       "      <td>DIĞER_HERŞEY DAHIL_LOW</td>\n",
       "      <td>A</td>\n",
       "    </tr>\n",
       "    <tr>\n",
       "      <th>4</th>\n",
       "      <td>Diğer</td>\n",
       "      <td>Herşey Dahil</td>\n",
       "      <td>High</td>\n",
       "      <td>83.79</td>\n",
       "      <td>DIĞER_HERŞEY DAHIL_HIGH</td>\n",
       "      <td>A</td>\n",
       "    </tr>\n",
       "  </tbody>\n",
       "</table>\n",
       "</div>"
      ],
      "text/plain": [
       "  SaleCityName     ConceptName Seasons  Price          Sales_Level_Based Segment\n",
       "0        Girne    Herşey Dahil    High 103.94    GIRNE_HERŞEY DAHIL_HIGH       A\n",
       "1        Girne    Herşey Dahil     Low  90.94     GIRNE_HERŞEY DAHIL_LOW       A\n",
       "2        İzmir  Yarım Pansiyon    High  87.66  İZMIR_YARIM PANSIYON_HIGH       A\n",
       "3        Diğer    Herşey Dahil     Low  87.31     DIĞER_HERŞEY DAHIL_LOW       A\n",
       "4        Diğer    Herşey Dahil    High  83.79    DIĞER_HERŞEY DAHIL_HIGH       A"
      ]
     },
     "execution_count": 34,
     "metadata": {},
     "output_type": "execute_result"
    }
   ],
   "source": [
    "agg_df[\"Segment\"] = pd.qcut(agg_df[\"Price\"], 4, labels=[\"D\", \"C\", \"B\", \"A\"])\n",
    "agg_df.head()"
   ]
  },
  {
   "cell_type": "code",
   "execution_count": 35,
   "id": "394eb171-b0fe-4cac-96c6-c6ad0046155c",
   "metadata": {},
   "outputs": [
    {
     "data": {
      "text/plain": [
       "9   64.92\n",
       "Name: Price, dtype: float64"
      ]
     },
     "execution_count": 35,
     "metadata": {},
     "output_type": "execute_result"
    }
   ],
   "source": [
    "new_customer1 = \"ANTALYA_HERŞEY DAHIL_HIGH\"\n",
    "agg_df[\"Price\"][agg_df[\"Sales_Level_Based\"] == new_customer1]"
   ]
  },
  {
   "cell_type": "code",
   "execution_count": 36,
   "id": "96c3d4e7-2ba9-4957-bfaa-2a50c134a225",
   "metadata": {},
   "outputs": [
    {
     "data": {
      "text/plain": [
       "19    C\n",
       "Name: Segment, dtype: category\n",
       "Categories (4, object): ['D' < 'C' < 'B' < 'A']"
      ]
     },
     "execution_count": 36,
     "metadata": {},
     "output_type": "execute_result"
    }
   ],
   "source": [
    "new_customer2 = \"GIRNE_YARIM PANSIYON_LOW\"\n",
    "agg_df[\"Segment\"][agg_df[\"Sales_Level_Based\"] == new_customer2]"
   ]
  },
  {
   "cell_type": "code",
   "execution_count": null,
   "id": "ea243517-d91c-45db-8e2f-5f84918b75f5",
   "metadata": {},
   "outputs": [],
   "source": []
  }
 ],
 "metadata": {
  "kernelspec": {
   "display_name": "Python 3 (ipykernel)",
   "language": "python",
   "name": "python3"
  },
  "language_info": {
   "codemirror_mode": {
    "name": "ipython",
    "version": 3
   },
   "file_extension": ".py",
   "mimetype": "text/x-python",
   "name": "python",
   "nbconvert_exporter": "python",
   "pygments_lexer": "ipython3",
   "version": "3.9.18"
  }
 },
 "nbformat": 4,
 "nbformat_minor": 5
}
